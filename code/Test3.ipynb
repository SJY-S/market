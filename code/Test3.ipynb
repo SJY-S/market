{
 "cells": [
  {
   "cell_type": "code",
   "execution_count": null,
   "metadata": {},
   "outputs": [],
   "source": [
    "import pandas as pd\n",
    "import numpy as np\n",
    "import matplotlib.pyplot as plt"
   ]
  },
  {
   "cell_type": "code",
   "execution_count": null,
   "metadata": {},
   "outputs": [],
   "source": [
    "data_1=pd.read_excel(\"E:/Tipdm/data/cumcm2018c1.xlsx\")\n",
    "data_2=pd.read_csv(\"E:/Tipdm/data/cumcm2018c2.csv\",engine='python',encoding='utf8').dropna(axis=0,subset=['dtime'])"
   ]
  },
  {
   "cell_type": "code",
   "execution_count": null,
   "metadata": {},
   "outputs": [],
   "source": [
    "data_1_1=data_1.dropna(axis=0,subset=['csrq','djsj','xb','djsj'])\n",
    "data_2_1=data_2[['kh','dtime','je','gzmc','jf']]\n",
    "data=pd.merge(data_1_1,data_2_1,on='kh',how='inner')\n",
    "print(data.info())"
   ]
  },
  {
   "cell_type": "code",
   "execution_count": null,
   "metadata": {},
   "outputs": [],
   "source": [
    "bq_1=data_1_1[['kh','xb']]\n",
    "bq_1_cp=bq_1.copy()\n",
    "data_cp=data.copy()               #卡号和性别"
   ]
  },
  {
   "cell_type": "code",
   "execution_count": null,
   "metadata": {},
   "outputs": [],
   "source": [
    "data_cp.loc[:,'csrq']=pd.to_datetime(data['csrq'],format='%Y/%m/%d %H:%M:%S.%f',errors='coerce')\n",
    "data_cp.loc[:,'csrq']=data_cp['csrq'].dt.year\n",
    "bq_1_cp['old']=2020-data_cp['csrq']            #年龄"
   ]
  },
  {
   "cell_type": "code",
   "execution_count": null,
   "metadata": {},
   "outputs": [],
   "source": [
    "data_cp.loc[:,'djsj']=pd.to_datetime(data['djsj'],format='%Y/%m/%d %H:%M:%S.%f',errors='coerce')\n",
    "data_cp.loc[:,'djsj']=data_cp['djsj'].dt.year\n",
    "bq_1_cp['rhsj']=2020-data_cp['djsj']                #入会时间"
   ]
  },
  {
   "cell_type": "code",
   "execution_count": null,
   "metadata": {},
   "outputs": [],
   "source": [
    "#消费水平\n",
    "je_a=data_cp['je']\n",
    "je_b=[]\n",
    "for i in je_a:\n",
    "    if 0<i<=100:\n",
    "        je_b.append(\"低消费水平\")\n",
    "    elif 100<=i<300:\n",
    "        je_b.append('中等消费水平')\n",
    "    elif 300<=i:\n",
    "        je_b.append(\"高消费水平\")\n",
    "    else:\n",
    "        je_b.append('Nan')\n",
    "\n",
    "je_c={'kh':data_cp['kh'],'xfsp':je_b}\n",
    "je_d=pd.DataFrame(je_c)           #最后与bq_1_cp合并\n",
    "data1=pd.merge(bq_1_cp,je_d,on='kh',how='outer')\n",
    "print(data1.info())"
   ]
  },
  {
   "cell_type": "code",
   "execution_count": null,
   "metadata": {},
   "outputs": [],
   "source": [
    "#消费季节\n",
    "data_cp.loc[:,'dtime']=pd.to_datetime(data['dtime'],format='%Y/%m/%d %H:%M:%S.%f',errors='coerce')\n",
    "data_cp['month']=data_cp['dtime'].dt.month\n",
    "month_a=data_cp['month']\n",
    "month_b=[]\n",
    "for i in month_a:\n",
    "    if 3<=i<=5:\n",
    "        month_b.append('春季集中消费')\n",
    "    elif 6<=i<=8:\n",
    "        month_b.append('夏季集中消费')\n",
    "    elif 9<=i<=11:\n",
    "        month_b.append(\"秋季集中消费\")\n",
    "    elif i==12 | i<=2:\n",
    "        month_b.append(\"冬季集中消费\")\n",
    "    else:\n",
    "        month_b.append(\"Nan\")\n",
    "\n",
    "month_c={'kh':data_cp['kh'],'集中消费季节':month_b}\n",
    "month_d=pd.DataFrame(month_c)\n",
    "data2=pd.merge(data1,month_d,on='kh',how='outer')"
   ]
  },
  {
   "cell_type": "code",
   "execution_count": null,
   "metadata": {},
   "outputs": [],
   "source": [
    "gzmc_a=data_cp['gzmc']\n",
    "dic2={'好孩子':'有孩子','小天才':'有孩子','jeep童装':'有孩子',\n",
    "      '雅诗兰黛ESTEE LAUDER':'精致','兰芝柜':'精致','科颜氏柜':'精致','迪奥柜':'精致',\n",
    "      '佰草集':'精致','圣罗兰柜':'精致','雅芳婷柜':'精致','CHANEL':'精致','迪奥':'精致',\n",
    "      'Marisfrolg':'精致','碧欧泉(BIOTHERM)':'精致','Dior':'精致',\n",
    "      'ARMANI COLLEZIONI':'奢侈品','阿玛尼GIORGIO ARMANI':'奢侈品','施华洛世奇柜':'奢侈品',\n",
    "      '宝姿柜':'男装',\n",
    "      '博朗小家电柜':'新居',\n",
    "      ' ':'促销狂热者'}\n",
    "gzmc_b=[]\n",
    "for i in gzmc_a:\n",
    "    if i in dic2:\n",
    "        gzmc_b.append(dic2.get(i))\n",
    "    else:\n",
    "        gzmc_b.append('Nan')\n",
    "gzmc_c={'kh':data_cp['kh'],'标签':gzmc_b}\n",
    "gzmc_d=pd.DataFrame(gzmc_c)\n",
    "data3=pd.merge(data2,gzmc_d,on='kh',how='outer')\n",
    "print(data3.info())"
   ]
  },
  {
   "cell_type": "code",
   "execution_count": null,
   "metadata": {},
   "outputs": [],
   "source": []
  },
  {
   "cell_type": "code",
   "execution_count": null,
   "metadata": {},
   "outputs": [],
   "source": []
  }
 ],
 "metadata": {
  "kernelspec": {
   "display_name": "Python 3",
   "language": "python",
   "name": "python3"
  },
  "language_info": {
   "codemirror_mode": {
    "name": "ipython",
    "version": 3
   },
   "file_extension": ".py",
   "mimetype": "text/x-python",
   "name": "python",
   "nbconvert_exporter": "python",
   "pygments_lexer": "ipython3",
   "version": "3.6.5"
  }
 },
 "nbformat": 4,
 "nbformat_minor": 2
}
